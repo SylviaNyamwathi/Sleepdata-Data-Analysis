{
 "cells": [
  {
   "cell_type": "markdown",
   "id": "b72a1773",
   "metadata": {},
   "source": [
    "# Sleepdata Data Analysis"
   ]
  },
  {
   "cell_type": "markdown",
   "id": "d9334d8b",
   "metadata": {},
   "source": [
    "# Data Cleaning and Preparation\n",
    "\n",
    "In this notebook, I will clean and prepare the sleep data for analysis. The following steps will be performed:\n",
    "1. Handling missing values\n",
    "2. Converting 'Start' and 'End' columns to datetime format\n",
    "3. Calculating the duration of sleep\n"
   ]
  },
  {
   "cell_type": "code",
   "execution_count": null,
   "id": "b115ad86",
   "metadata": {},
   "outputs": [],
   "source": [
    "import pandas as pd\n",
    "\n",
    "# Load the dataset\n",
    "sleep_data = pd.read_csv(r)"
   ]
  }
 ],
 "metadata": {
  "kernelspec": {
   "display_name": "Python 3 (ipykernel)",
   "language": "python",
   "name": "python3"
  },
  "language_info": {
   "codemirror_mode": {
    "name": "ipython",
    "version": 3
   },
   "file_extension": ".py",
   "mimetype": "text/x-python",
   "name": "python",
   "nbconvert_exporter": "python",
   "pygments_lexer": "ipython3",
   "version": "3.10.9"
  }
 },
 "nbformat": 4,
 "nbformat_minor": 5
}
